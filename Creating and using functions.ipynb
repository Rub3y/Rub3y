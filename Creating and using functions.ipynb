{
 "cells": [
  {
   "cell_type": "markdown",
   "id": "0fa74667",
   "metadata": {},
   "source": [
    "# 2 Functions, libraries and documentation"
   ]
  },
  {
   "cell_type": "markdown",
   "id": "9ddab641",
   "metadata": {},
   "source": [
    "## 2.1 Functions"
   ]
  },
  {
   "cell_type": "code",
   "execution_count": 3,
   "id": "53492151",
   "metadata": {},
   "outputs": [
    {
     "name": "stdout",
     "output_type": "stream",
     "text": [
      "[2, 4]\n"
     ]
    }
   ],
   "source": [
    "\"\"\"\n",
    "A function is a reusable set of instructions.\n",
    "It has inputs with or without a return. Variables in functions\n",
    "are local variables, they don't exist outside of the function.\n",
    "\"\"\"\n",
    "\n",
    "def filter_even(number_list):\n",
    "    result_list = []\n",
    "    for number in number_list:\n",
    "        if number % 2 == 0:\n",
    "            result_list.append(number)\n",
    "    return result_list\n",
    "\n",
    "even_list = filter_even([1,2,4,5,9])    #SHIFT+TAB in a function to get info\n",
    "print(even_list)"
   ]
  },
  {
   "cell_type": "markdown",
   "id": "af33848c",
   "metadata": {},
   "source": [
    "## 2.2 Libraries"
   ]
  },
  {
   "cell_type": "code",
   "execution_count": 5,
   "id": "6d66bd31",
   "metadata": {},
   "outputs": [
    {
     "name": "stdout",
     "output_type": "stream",
     "text": [
      "option 1 has the lower EMI: $14568\n"
     ]
    }
   ],
   "source": [
    "\"\"\" \n",
    "if all functions were available in standard python, there would \n",
    "be constant name overlap. Because of this, functions are \n",
    "divided into modules and libraries\n",
    "\"\"\"\n",
    "\n",
    "import math\n",
    "\n",
    "\"\"\"\n",
    "optional arguments in functions need to be at the end and\n",
    "required arguments need to be before optional arguments\n",
    "\"\"\"\n",
    "\n",
    "def loan_emi(amount, duration, rate, down_payment=0):\n",
    "    loan_amount = amount - down_payment\n",
    "    emi = loan_amount * rate * ((1+rate)**duration) / (((1+rate)**duration)-1)\n",
    "    emi_int = math.ceil(emi)\n",
    "    return emi_int\n",
    "\n",
    "emi_1 = loan_emi(\n",
    "    amount = 1260000, \n",
    "    duration = 8*12, \n",
    "    rate = 0.1/12, \n",
    "    down_payment = 3e5\n",
    ")\n",
    "\n",
    "emi_2 = loan_emi(\n",
    "    amount = 1260000, \n",
    "    duration = 10*12, \n",
    "    rate = 0.08/12, \n",
    ")\n",
    "\n",
    "if emi_1 < emi_2:\n",
    "    print(\"option 1 has the lower EMI: ${}\".format(emi_1))\n",
    "else:\n",
    "    print(\"option 2 has the lower EMI: ${}\".format(emi_2))"
   ]
  },
  {
   "cell_type": "markdown",
   "id": "d3b0ab18",
   "metadata": {},
   "source": [
    "## 2.3 Documentation of a function"
   ]
  },
  {
   "cell_type": "code",
   "execution_count": 8,
   "id": "ae11e3a1",
   "metadata": {},
   "outputs": [
    {
     "name": "stdout",
     "output_type": "stream",
     "text": [
      "Help on function loan_emi in module __main__:\n",
      "\n",
      "loan_emi(amount, duration, rate, down_payment=0)\n",
      "    Calculates the equal montly installment (EMI) for a loan.\n",
      "    \n",
      "    Arguments:\n",
      "        amount - Total amount to be spent (loan + down payment)\n",
      "        duration - Duration of the loan (in months)\n",
      "        rate - Rate of interest (monthly)\n",
      "        down_payment (optional) - Optional intial payment (deducted from amount)\n",
      "\n"
     ]
    }
   ],
   "source": [
    "def loan_emi(amount, duration, rate, down_payment=0):\n",
    "    \"\"\"\n",
    "    Calculates the equal montly installment (EMI) for a loan.\n",
    "    \n",
    "    Arguments:\n",
    "        amount - Total amount to be spent (loan + down payment)\n",
    "        duration - Duration of the loan (in months)\n",
    "        rate - Rate of interest (monthly)\n",
    "        down_payment (optional) - Optional intial payment (deducted from amount)\n",
    "    \"\"\"\n",
    "    loan_amount = amount - down_payment\n",
    "    try:\n",
    "        emi = loan_amount * rate * ((1+rate)**duration) / (((1+rate)**duration)-1)\n",
    "    except ZeroDivisionError:\n",
    "        emi = loan_amount / duration\n",
    "    emi = math.ceil(emi)\n",
    "    return emi\n",
    "\n",
    "help(loan_emi)"
   ]
  }
 ],
 "metadata": {
  "kernelspec": {
   "display_name": "Python 3",
   "language": "python",
   "name": "python3"
  },
  "language_info": {
   "codemirror_mode": {
    "name": "ipython",
    "version": 3
   },
   "file_extension": ".py",
   "mimetype": "text/x-python",
   "name": "python",
   "nbconvert_exporter": "python",
   "pygments_lexer": "ipython3",
   "version": "3.8.8"
  }
 },
 "nbformat": 4,
 "nbformat_minor": 5
}
