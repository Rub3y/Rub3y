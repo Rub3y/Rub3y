{
 "cells": [
  {
   "cell_type": "markdown",
   "metadata": {},
   "source": [
    "# 1   Summary syntax python"
   ]
  },
  {
   "cell_type": "code",
   "execution_count": null,
   "metadata": {},
   "outputs": [],
   "source": [
    "\"\"\"\n",
    "Why use Python: \n",
    "- Reproducable/easy fix (mistake, change in plans, data grouped 10h instead of 12h...)\n",
    "- Faster and more complex tasks/graphs\n",
    "- Automation\n",
    "\"\"\"\n",
    "\n",
    "# Hashtag(s) are one-line comment\n",
    "\n",
    "\"\"\" \n",
    "3 Quotation marks can do multi-line comments (Easy for excluding code \n",
    "that you don't want to run but don't want to delete)\n",
    "\"\"\"\n",
    "\n",
    "\"\"\"\n",
    "Defining variable typings (int, string, float...) is not needed.\n",
    "int = geheel getal vb. 5\n",
    "float = reeël getal vb. .5 of 4.0\n",
    "String = tekst vb. Hello\n",
    "boolean = variabele kan alleen true of false zijn\n",
    "complex = complex getal vb. 5 + 3j\n",
    "\"\"\""
   ]
  },
  {
   "cell_type": "markdown",
   "metadata": {},
   "source": [
    "## 1.1 Assigning variables"
   ]
  },
  {
   "cell_type": "code",
   "execution_count": 29,
   "metadata": {},
   "outputs": [
    {
     "name": "stdout",
     "output_type": "stream",
     "text": [
      "a is 5 and b is Hello world one hundreth is 0.01\n"
     ]
    }
   ],
   "source": [
    "a = 5\n",
    "b = \"Hello world\"\n",
    "one_hundredth = 1e-2\n",
    "print(\"a is\",a, \"and b is\",b,\"one hundreth is\",one_hundredth)"
   ]
  },
  {
   "cell_type": "markdown",
   "metadata": {},
   "source": [
    "## 1.2 Operations"
   ]
  },
  {
   "cell_type": "code",
   "execution_count": 28,
   "metadata": {},
   "outputs": [
    {
     "name": "stdout",
     "output_type": "stream",
     "text": [
      "x + y = 18\n",
      "x - y = 10\n",
      "x * y = 56\n",
      "x / y = 3.5\n",
      "x // y = 3\n",
      "x % y = 2\n",
      "x ** y = 38416\n",
      "19\n",
      "0.8\n",
      "freeCodeCam\n",
      "freeC\n",
      "eeCo\n",
      "p\n",
      "eCamp\n",
      "reeCode\n",
      "eCa\n",
      "feCdCm\n"
     ]
    }
   ],
   "source": [
    "x = 14\n",
    "y = 4\n",
    "# Adding\n",
    "print('x + y =', x+y) # Output = 18\n",
    "# Subtracting\n",
    "print('x - y =', x-y) # Output = 10\n",
    "# Multiplying\n",
    "print('x * y =', x*y) # Output = 56\n",
    "# Dividing \n",
    "print('x / y =', x/y) # Output = 3.5\n",
    "# Floor division (quotient)\n",
    "print('x // y =', x//y) # Output = 3\n",
    "# Remainder of the division\n",
    "print('x % y =', x%y) # Output = 2\n",
    "# Raised to the power (x^y)\n",
    "print('x ** y =', x**y) # Output = 38416\n",
    "# Shortcuts (idem for -=; *=; %=; //=; **=)\n",
    "x +=5 # x += 5 ----> x = x + 5; Output = 19\n",
    "print(x)\n",
    "y /= 5 # x /= 5 ----> y = y / 5; Output = 0.8\n",
    "print(y)\n",
    "\n",
    "# string [start:end:step]\n",
    "str_1 = \"freeCode\"\n",
    "str_2 = \"Camp\"\n",
    "string = str_1 + str_2\n",
    "print(string[0:len(string)-1])\t\t# freeCodeCam\n",
    "print(string[0:5])\t\t            # freeC\n",
    "print(string[2:6])\t\t            # eeCo\n",
    "print(string[-1])\t\t            # p\n",
    "print(string[-5:])\t\t            # eCamp\n",
    "print(string[1:-4])                 # reeCode\n",
    "print(string[-5:-2])\t            # eCa\n",
    "print(string[::2])\t\t            # feCdCm"
   ]
  },
  {
   "cell_type": "markdown",
   "metadata": {},
   "source": [
    "## 1.3 Input function"
   ]
  },
  {
   "cell_type": "code",
   "execution_count": 32,
   "metadata": {},
   "outputs": [
    {
     "name": "stdout",
     "output_type": "stream",
     "text": [
      "Vul hier een geheel getal in: 3\n",
      "The inputted string is: 3\n"
     ]
    }
   ],
   "source": [
    "# Input function asks user to input something after code is run\n",
    "input_int = input('Vul hier een geheel getal in: ')\n",
    "print('The inputted string is:', input_int)"
   ]
  },
  {
   "cell_type": "markdown",
   "metadata": {},
   "source": [
    "## 1.4 Type conversion"
   ]
  },
  {
   "cell_type": "code",
   "execution_count": 33,
   "metadata": {},
   "outputs": [
    {
     "name": "stdout",
     "output_type": "stream",
     "text": [
      "Vul hier een int (geheel getal) in: 4\n",
      "Vul hier een float (reeël getal) in: 3.4\n",
      "Sum of String inputs is 43.4\n",
      "Sum of int and float input is 7.4\n"
     ]
    }
   ],
   "source": [
    "# Bij input function is inhoud altijd String -> met Strings geen berekeningen doen\n",
    "input_string1 = input('Vul een int (geheel getal) in: ')\n",
    "input_int = int(input_string1)                              # Convert String to int\n",
    "input_string2 = input('Vul een float (reeël getal) in: ')\n",
    "input_float = float(input_string2)                          # Convert String to float\n",
    "input_sum_wrong = input_string1 + input_string2             # Output = plakt tekst aan elkaar\n",
    "input_sum_right = input_int + input_float                   # Output = Sum of inputs (= float)\n",
    "print(\"Sum of String inputs is\",input_sum_wrong)\n",
    "print(\"Sum of int and float input is\",input_sum_right)"
   ]
  },
  {
   "cell_type": "markdown",
   "metadata": {},
   "source": [
    "## 1.5 Containers: list, tuple and dictionary"
   ]
  },
  {
   "cell_type": "code",
   "execution_count": 50,
   "metadata": {
    "scrolled": true
   },
   "outputs": [
    {
     "name": "stdout",
     "output_type": "stream",
     "text": [
      "[6, 'you', 'random', 2]\n"
     ]
    }
   ],
   "source": [
    "list1 = [1, 2, 6, 4]                      # list of integers\n",
    "list1.sort()                              # sort list (ascending but other criteria possible)\n",
    "list1[0] = \"Hello\"                        # change element at index 0 to \"Hello\"\n",
    "list1[-2] = \"you\"                         # change element at second last index to \"you\"\n",
    "len(list1)                                # length of a list\n",
    "list1[2:4]                                # all elements between index 2 and 4 (4 not included)\n",
    "list1[1:]                                 # all elements starting from index 1\n",
    "list1.append('blup')                      # add 'blup' at end of list\n",
    "list1.insert(2, 'random')                 # add 'random' at index 2 of list\n",
    "list1.remove('blup')                      # remove 'blup' in list\n",
    "list1.pop(0)                              # remove first element in list (no index removes last)\n",
    "'blup' in list1                           # returns true if 'blup' in list, false if not\n",
    "list1.reverse()                           # reverse order of elements in list\n",
    "list2 = list1.copy()                      # list2 is a copy of list1 at this point\n",
    "del list1                                 # deleting list1\n",
    "print(list2)"
   ]
  },
  {
   "cell_type": "code",
   "execution_count": null,
   "metadata": {},
   "outputs": [],
   "source": [
    "tuple_1 = (5, 10 ,15 ,20)                 # elements in Tuple (fixed) lists can't be modified\n",
    "list_3 = list(tuple_1)                    # convert tuple to list\n",
    "tuple(list_3)                             # convert list to tuple"
   ]
  },
  {
   "cell_type": "code",
   "execution_count": null,
   "metadata": {},
   "outputs": [],
   "source": [
    "person1={                                 # dictionary is an unordered collection of items\n",
    "    'name': 'Ruby',                       # keys io indexes makes it easy to ask for data\n",
    "    'age': 24,\n",
    "    'married': False\n",
    "}\n",
    "person2 = dict(name='John', age=20)       # other way to make dictionary but idem\n",
    "person1['name']                           # get element that has key 'name'\n",
    "person1.get('name', 'unknown')            # same, but if not found 'unknown' instead of error\n",
    "person1[\"address\"] = 'earth'              # add 'earth' as 'address' in dictionary\n",
    "person1.keys()                            # returns all keys\n",
    "person1.values()                          # returns every element or value\n",
    "person1.items()                           # returns key with value\n",
    "list_dict = list(person1.values())        # if you want access with index, convert to list\n",
    "list_dict[0]                              # access first value"
   ]
  },
  {
   "cell_type": "markdown",
   "metadata": {},
   "source": [
    "## 1.6 Conditional statement and try except"
   ]
  },
  {
   "cell_type": "code",
   "execution_count": 27,
   "metadata": {},
   "outputs": [
    {
     "name": "stdout",
     "output_type": "stream",
     "text": [
      "InputIf is a positive number\n"
     ]
    }
   ],
   "source": [
    "inputIf = 25\n",
    "\n",
    "# Check if inputIf is a number; if it is, check positive/negative/zero\n",
    "if type(inputIf) == int or type(inputIf) == float: \n",
    "    if inputIf > 0:\n",
    "        print(\"InputIf is a positive number\")\n",
    "    elif inputIf == 0:\n",
    "        print(\"InputIf is zero\")\n",
    "    else:\n",
    "        print(\"InputIf is a negative number\")\n",
    "else:\n",
    "    print(\"InputIf wasn't a number\")\n",
    "\n",
    "# 0, '', [], {}... will be seen as false by if\n",
    "# if or elif can't be empty -> use 'pass' statement if nothing has to happen"
   ]
  },
  {
   "cell_type": "code",
   "execution_count": 1,
   "metadata": {},
   "outputs": [
    {
     "name": "stdout",
     "output_type": "stream",
     "text": [
      "Failed to compute result because you were trying to divide by zero\n",
      "None\n"
     ]
    }
   ],
   "source": [
    "\"\"\"\n",
    "try except does not have 'ask for permission' step like if else.\n",
    "If 99% of the cases no exception, we use try/except approach. \n",
    "It will be faster if the exception really is exceptional. \n",
    "\"\"\"\n",
    "\n",
    "number_1 = 5\n",
    "number_2 = 0\n",
    "\n",
    "try:\n",
    "    result = number_1 / number_2\n",
    "except ZeroDivisionError:\n",
    "    print(\"Failed to compute result because you were trying to divide by zero\")\n",
    "    result = None\n",
    "\n",
    "print(result)"
   ]
  },
  {
   "cell_type": "markdown",
   "metadata": {},
   "source": [
    "## 1.7 While loop"
   ]
  },
  {
   "cell_type": "code",
   "execution_count": 26,
   "metadata": {},
   "outputs": [
    {
     "name": "stdout",
     "output_type": "stream",
     "text": [
      "While loop: the sum is(no 40 added and stopped at i=60) 1730\n"
     ]
    }
   ],
   "source": [
    "n = 100                           # initialize final number (ending)\n",
    "sum = 0                           # initialize sum\n",
    "i = 1                             # initialize counter (beginning)\n",
    "\n",
    "while i <= n:                     # zolang i kleiner is dan n (100); voor deze loop uit\n",
    "    if i == 40:\n",
    "        i += 1\n",
    "        continue                  # go to next step without executing remaining code in loop\n",
    "    if i == 60:\n",
    "        break                     # stop and go out of while loop\n",
    "    sum += i                      \n",
    "    i += 1                        # update counter, go to next step i\n",
    "    \n",
    "print(\"While loop: the sum is(no 40 added and stopped at i=60)\", sum)\n",
    "\n",
    "# Bij voorwaarde/uitzondering uit loop: gebruik 'break'\n",
    "# Bij voorwaarde/uitzondering naar volgende stap gaan: gebruik 'continue'"
   ]
  },
  {
   "cell_type": "markdown",
   "metadata": {},
   "source": [
    "## 1.8 For loop"
   ]
  },
  {
   "cell_type": "code",
   "execution_count": 22,
   "metadata": {},
   "outputs": [
    {
     "name": "stdout",
     "output_type": "stream",
     "text": [
      "For loop: the sum is 28\n"
     ]
    }
   ],
   "source": [
    "# If you know how many times the loop will run or loop in sequence (list, dictionary, range...)\n",
    "# A for loop is faster than a while loop because it is written in C\n",
    "\n",
    "numbers = [6, 5, 3, 8, 4, 2]\n",
    "sum = 0\n",
    "\n",
    "for value in numbers:                   # for each value in list numbers do calculation below\n",
    "    if type(value) == str:              # Als value String is, moet de loop deze stap overslaan\n",
    "        print('Error: String in list')\n",
    "        continue                        \n",
    "    sum += value                     \n",
    "\n",
    "print(\"For loop: the sum is\", sum)\n",
    "\n",
    "# Bij voorwaarde/uitzondering uit loop: gebruik 'break'\n",
    "# Bij voorwaarde/uitzondering naar volgende stap gaan: gebruik 'continue'"
   ]
  },
  {
   "cell_type": "code",
   "execution_count": 23,
   "metadata": {},
   "outputs": [
    {
     "name": "stdout",
     "output_type": "stream",
     "text": [
      "Key: name , Value: John Doe\n",
      "Key: age , Value: 30\n",
      "Key: married , Value: True\n"
     ]
    }
   ],
   "source": [
    "person = {\n",
    "    'name': 'John Doe',\n",
    "    'age': 30,\n",
    "    'married': True\n",
    "}\n",
    "for key, value in person.items():\n",
    "    print(\"Key:\", key, \",\", \"Value:\", value)"
   ]
  },
  {
   "cell_type": "code",
   "execution_count": 24,
   "metadata": {},
   "outputs": [
    {
     "name": "stdout",
     "output_type": "stream",
     "text": [
      "0\n",
      "2\n",
      "4\n"
     ]
    }
   ],
   "source": [
    "for i in range(0, 6, 2):                \n",
    "    print(i)"
   ]
  },
  {
   "cell_type": "code",
   "execution_count": 25,
   "metadata": {
    "scrolled": true
   },
   "outputs": [
    {
     "name": "stdout",
     "output_type": "stream",
     "text": [
      "The value at position 0 is Monday\n",
      "The value at position 1 is Tuesday\n",
      "The value at position 2 is Wednesday\n"
     ]
    }
   ],
   "source": [
    "a_list = [\"Monday\", \"Tuesday\", \"Wednesday\"]\n",
    "for i in range(len(a_list)):\n",
    "    print('The value at position {} is {}'.format(i, a_list[i]))"
   ]
  },
  {
   "cell_type": "markdown",
   "metadata": {},
   "source": [
    "## 1.9 Caching variables"
   ]
  },
  {
   "cell_type": "code",
   "execution_count": 3,
   "metadata": {},
   "outputs": [
    {
     "ename": "ImportError",
     "evalue": "cannot import name 'cache' from 'functools' (C:\\Users\\RubenHoofwijk\\anaconda3\\lib\\functools.py)",
     "output_type": "error",
     "traceback": [
      "\u001b[1;31m---------------------------------------------------------------------------\u001b[0m",
      "\u001b[1;31mImportError\u001b[0m                               Traceback (most recent call last)",
      "\u001b[1;32m<ipython-input-3-c6687f779082>\u001b[0m in \u001b[0;36m<module>\u001b[1;34m\u001b[0m\n\u001b[1;32m----> 1\u001b[1;33m \u001b[1;32mfrom\u001b[0m \u001b[0mfunctools\u001b[0m \u001b[1;32mimport\u001b[0m \u001b[0mcache\u001b[0m\u001b[1;33m,\u001b[0m \u001b[0mlru_cache\u001b[0m\u001b[1;33m\u001b[0m\u001b[1;33m\u001b[0m\u001b[0m\n\u001b[0m\u001b[0;32m      2\u001b[0m \u001b[1;33m\u001b[0m\u001b[0m\n\u001b[0;32m      3\u001b[0m \u001b[1;33m@\u001b[0m\u001b[0mlru_cache\u001b[0m\u001b[1;33m(\u001b[0m\u001b[0mmaxsize\u001b[0m\u001b[1;33m=\u001b[0m\u001b[1;36m5\u001b[0m\u001b[1;33m)\u001b[0m                              \u001b[1;31m# remembers every vaariable made, uses more memory\u001b[0m\u001b[1;33m\u001b[0m\u001b[1;33m\u001b[0m\u001b[0m\n\u001b[0;32m      4\u001b[0m \u001b[1;32mdef\u001b[0m \u001b[0mfib\u001b[0m\u001b[1;33m(\u001b[0m\u001b[0mn\u001b[0m\u001b[1;33m)\u001b[0m\u001b[1;33m:\u001b[0m\u001b[1;33m\u001b[0m\u001b[1;33m\u001b[0m\u001b[0m\n\u001b[0;32m      5\u001b[0m     \u001b[1;32mif\u001b[0m \u001b[0mn\u001b[0m \u001b[1;33m<=\u001b[0m \u001b[1;36m1\u001b[0m\u001b[1;33m:\u001b[0m\u001b[1;33m\u001b[0m\u001b[1;33m\u001b[0m\u001b[0m\n",
      "\u001b[1;31mImportError\u001b[0m: cannot import name 'cache' from 'functools' (C:\\Users\\RubenHoofwijk\\anaconda3\\lib\\functools.py)"
     ]
    }
   ],
   "source": [
    "from functools import cache, lru_cache\n",
    "\n",
    "@lru_cache(maxsize=5)                              # remembers every vaariable made, uses more memory\n",
    "def fib(n):\n",
    "    if n <= 1:\n",
    "        return n\n",
    "    return fib(n-1) + fib(n-2)\n",
    "\n",
    "for i in range(400):\n",
    "    print(i, fib(i))\n",
    "print(\"done\")"
   ]
  },
  {
   "cell_type": "code",
   "execution_count": null,
   "metadata": {},
   "outputs": [],
   "source": []
  }
 ],
 "metadata": {
  "kernelspec": {
   "display_name": "Python 3",
   "language": "python",
   "name": "python3"
  },
  "language_info": {
   "codemirror_mode": {
    "name": "ipython",
    "version": 3
   },
   "file_extension": ".py",
   "mimetype": "text/x-python",
   "name": "python",
   "nbconvert_exporter": "python",
   "pygments_lexer": "ipython3",
   "version": "3.8.8"
  }
 },
 "nbformat": 4,
 "nbformat_minor": 4
}
