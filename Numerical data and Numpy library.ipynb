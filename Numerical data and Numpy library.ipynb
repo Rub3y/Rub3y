{
 "cells": [
  {
   "cell_type": "markdown",
   "id": "d48fbe9a",
   "metadata": {},
   "source": [
    "zip(region, weights)      # zip pairs the data as tuplesm"
   ]
  },
  {
   "cell_type": "markdown",
   "id": "51050671",
   "metadata": {},
   "source": [
    "# 3 Numpy library"
   ]
  },
  {
   "cell_type": "markdown",
   "id": "7a1e7ed1",
   "metadata": {},
   "source": [
    "## 3.1 Arrays in Numpy"
   ]
  },
  {
   "cell_type": "code",
   "execution_count": null,
   "id": "55d583cd",
   "metadata": {},
   "outputs": [],
   "source": [
    "\"\"\"\n",
    "Numpy library is built for big numerical computations. It has build-in functions\n",
    "that are It is written in C++ which is about 100x faster than python itself.\n",
    "\"\"\"\n",
    "\n",
    "#!pip install numpy --upgrade --quiet   # installing numpy library if needed\n",
    "import numpy as np                      # aliasing to use np instead of numpy each time\n",
    "\n",
    "1D_array = np.array([1, 2, 3])          # not a list anymore, but a 1D array\n",
    "\n",
    "2D_array = np.array([[73, 67, 43],      # 2D array\n",
    "                     [91, 88, 64],      # a list of 5 elements, \n",
    "                     [87, 134, 58],     # where each element contains a list of 3 elements\n",
    "                     [102, 43, 37],\n",
    "                     [69, 96, 70]])\n",
    "\n",
    "3D_array = np.array([                   # 3D array \n",
    "            [[11, 12, 13], \n",
    "             [13, 14, 15]], \n",
    "            [[15, 16, 17], \n",
    "             [17, 18, 19.5]]])\n",
    "\n",
    "np.ones((3,2))                          # matrix with only ones\n",
    "np.zeros((2,2))                         # matrix with only zeros\n",
    "np.eye(2)                               # identity matrix with 2 rows, 2 columns\n",
    "np.full([2, 2], 8)                      # 2 rows, 2 columns, fixed value 8\n",
    "np.random.rand(3)                       # 1 row, 3 elements, random numbers\n",
    "np.random.randn(2,3)                    # same but random number from normal distribution\n",
    "np.arrange(5, 11, 2)                    # list with start, end and steps\n",
    "np.linspace(3, 27, 9)                   # equally spaced numbers in a range\n",
    "empty_list = np.empty(5)                # empty list with 5 spaces\n",
    "empty_list.fill(2)                      # every element in list becomes 2\n",
    "\n",
    "# np.reshape, np.stack, np.concatenate, np.split\n",
    "\n",
    "print(3D_array[0, 2, 2])       # access a single element\n",
    "print(3D_array[1:, 0:1, 0])    # \n",
    "print(3D_array[1])             # access first row"
   ]
  },
  {
   "cell_type": "code",
   "execution_count": 30,
   "id": "c782e585",
   "metadata": {},
   "outputs": [
    {
     "name": "stdout",
     "output_type": "stream",
     "text": [
      "The broadcasting sum is\n",
      "[[2 3]\n",
      " [3 3]]\n"
     ]
    }
   ],
   "source": [
    "# math operations\n",
    "\n",
    "arr_1 = np.array([1.5, 2, 3, 5])\n",
    "\n",
    "round_arr_1 = np.round(arr_1, 1)            # round every element up to 1 decimal\n",
    "sum_arr_1 = np.sum(arr_1)                   # sum of every element in array\n",
    "exp_arr_1 = np.exp(arr_1)                   # every element e^x\n",
    "sqrt_arr_1 = np.sqrt(arr_1)                 # every element sqrt(x)\n",
    "log_arr_1 = np.log(arr_1)                   # every element log(x)\n",
    "\n",
    "\"\"\"\n",
    "Broadcasting is one array adjusting shape (copying itself) to match shape\n",
    "of other array so it can be added, improves performance and saves memory.\n",
    "\"\"\"\n",
    "\n",
    "arr_1 = np.array([[1, 2], \n",
    "                  [2, 2]])\n",
    "arr_2 = np.array([1, 1])\n",
    "sum_broadcasting = arr_1 + arr_2\n",
    "\n",
    "print('The broadcasting sum is')\n",
    "print(sum_broadcasting)"
   ]
  },
  {
   "cell_type": "code",
   "execution_count": 35,
   "id": "0eab36cd",
   "metadata": {
    "scrolled": true
   },
   "outputs": [
    {
     "name": "stdout",
     "output_type": "stream",
     "text": [
      "Dimensions of arr_2 are (3, 3)\n",
      "Transposed arr_2 is\n",
      "[[1 4 7]\n",
      " [2 5 8]\n",
      " [3 6 9]]\n",
      "Determinant of arr_2 is 6.7e-16\n",
      "Sum of product of arr_1 and arr_2 is 21.0\n",
      "Matrix multiplication of arr_1 and arr_3 is 21.0\n"
     ]
    }
   ],
   "source": [
    "# linear algebra\n",
    "\n",
    "arr_1 = np.array([1.5, 2, 3])\n",
    "\n",
    "arr_2 = np.array([[1, 2, 3],\n",
    "                  [4, 5, 6],\n",
    "                  [7, 8, 9]])\n",
    "\n",
    "arr_3 = np.array([2, 3, 4])\n",
    "\n",
    "dimensions = arr_2.shape\n",
    "transposed_arr_2 = np.transpose(arr_2)\n",
    "determinant_arr_2 = np.linalg.det(arr_2)\n",
    "sum_of_product_of_arrays = np.dot(arr_1, arr_3)\n",
    "matrix_multiplication = arr_1 @ arr_3\n",
    "\n",
    "print(\"Dimensions of arr_2 are {}\".format(dimensions))\n",
    "print(\"Transposed arr_2 is\")\n",
    "print(transposed_arr_2)\n",
    "print(\"Determinant of arr_2 is {}\".format(np.round(determinant_arr_2, 17)))\n",
    "print(\"Sum of product of arr_1 and arr_2 is {}\".format(sum_of_product_of_arrays))\n",
    "print(\"Matrix multiplication of arr_1 and arr_3 is {}\".format(matrix_multiplication))"
   ]
  },
  {
   "cell_type": "markdown",
   "id": "1384681d",
   "metadata": {},
   "source": [
    "## 3.2 Statistics"
   ]
  },
  {
   "cell_type": "code",
   "execution_count": 3,
   "id": "454e5f77",
   "metadata": {},
   "outputs": [
    {
     "data": {
      "text/plain": [
       "3.0"
      ]
     },
     "execution_count": 3,
     "metadata": {},
     "output_type": "execute_result"
    }
   ],
   "source": [
    "mean_arr_1 = np.mean(arr_1)\n",
    "median_arr_1 = np.median(arr_1)\n",
    "stdv_arr_1 = np.std(arr_1)\n",
    "max_arr_1 = np.max(arr_1)\n",
    "min_arr_1 = np.min(arr_1)"
   ]
  },
  {
   "cell_type": "markdown",
   "id": "004d78c9",
   "metadata": {},
   "source": [
    "## 3.3 Manipulate a csv"
   ]
  },
  {
   "cell_type": "code",
   "execution_count": 42,
   "id": "11c8c94d",
   "metadata": {},
   "outputs": [
    {
     "name": "stdout",
     "output_type": "stream",
     "text": [
      "[[25. 76. 99.]\n",
      " [39. 65. 70.]\n",
      " [59. 45. 77.]\n",
      " ...\n",
      " [99. 62. 58.]\n",
      " [70. 71. 91.]\n",
      " [92. 39. 76.]]\n",
      "\n",
      "[[25.  76.  99.  72.2]\n",
      " [39.  65.  70.  59.7]\n",
      " [59.  45.  77.  65.2]\n",
      " ...\n",
      " [99.  62.  58.  71.1]\n",
      " [70.  71.  91.  80.7]\n",
      " [92.  39.  76.  73.4]]\n"
     ]
    }
   ],
   "source": [
    "import numpy as np\n",
    "\n",
    "climate_data = np.genfromtxt('climate.csv', delimiter=',', skip_header=1)\n",
    "print(climate_data)\n",
    "\n",
    "w1, w2, w3 = 0.3, 0.2, 0.5\n",
    "weights = np.array([w1, w2, w3])\n",
    "yields = climate_data @ weights\n",
    "\n",
    "climate_results = np.concatenate((climate_data, yields.reshape(10000, 1)), axis = 1)\n",
    "print()\n",
    "print(climate_results)\n",
    "\n",
    "np.savetxt('climate_results.txt', \n",
    "           climate_results, \n",
    "           fmt='%.2f', \n",
    "           delimiter=',',\n",
    "           header='temperature,rainfall,humidity,yield_apples', \n",
    "           comments='')"
   ]
  }
 ],
 "metadata": {
  "kernelspec": {
   "display_name": "Python 3",
   "language": "python",
   "name": "python3"
  },
  "language_info": {
   "codemirror_mode": {
    "name": "ipython",
    "version": 3
   },
   "file_extension": ".py",
   "mimetype": "text/x-python",
   "name": "python",
   "nbconvert_exporter": "python",
   "pygments_lexer": "ipython3",
   "version": "3.8.8"
  }
 },
 "nbformat": 4,
 "nbformat_minor": 5
}
